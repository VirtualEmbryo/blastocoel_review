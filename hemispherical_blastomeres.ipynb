{
 "cells": [
  {
   "cell_type": "markdown",
   "metadata": {},
   "source": [
    "This notebook supports the Fig. 4B of the Review \"Blastocoel morphogenesis: a biophysics perspective\" (Le Vergee--Serandour, Turlier, 2021). We provide the model and the numerical code used to produce the Figure. "
   ]
  },
  {
   "cell_type": "code",
   "execution_count": 1,
   "metadata": {},
   "outputs": [],
   "source": [
    "import numpy as np\n",
    "from numpy import pi\n",
    "import matplotlib.pyplot as plt\n",
    "from matplotlib.patches import Circle, Arc"
   ]
  },
  {
   "cell_type": "markdown",
   "metadata": {},
   "source": [
    "# 1-cell\n",
    "We calculate the aspect ratio of a cell lying on a surface, at constant area.s\n",
    "\n",
    "## Parametrization\n",
    "We consider a circular cell in contact with a surface. The 2d-shape of the cell is given by the contact angle $\\theta$ and its radius $R$. We want to calculate the aspect ratio $r$ and the area of the cell.\n",
    "\n",
    "### Cell area\n",
    "The cell area is given by the circle area, $\\pi R^2$ minus the area of the cap that is not under the surface. Cap area is given by\n",
    "$$A_{\\rm{cap}} = \\frac{R^2}{2}\\left[2\\theta - \\sin(2\\theta) \\right]$$\n",
    "thus the cell area is\n",
    "$$A = \\frac{R^2}{2} \\left[2\\pi - 2\\theta + \\sin(2\\theta) \\right]$$\n",
    "\n",
    "### Aspect ratio\n",
    "Introducing the aspect ratio $r$ as\n",
    "$$r = \\frac{L}{H}$$\n",
    "where $L$ is the length of the cell, along the surface, $H$ is the cell's height, transverse to the surface. \n",
    "The height is given by\n",
    "$$H = R(1+\\cos \\theta)$$\n",
    "The length $L$ is expressed depending on two cases :\n",
    "- Case 1: $0< \\theta \\leq\\frac{\\pi}{2}$ : $L = 2R$, thus \n",
    "$$r = \\frac{2}{1+\\cos\\theta}$$\n",
    "- Case 2: $\\frac{\\pi}{2}< \\theta \\leq\\pi$ : $L = 2R\\sin\\theta$, thus \n",
    "$$r = \\frac{2\\sin\\theta}{1+\\cos\\theta}$$\n",
    "\n",
    "Interestingly, the aspect ratio is independent of the radius, illustrating the scale-independence. Only the contact angle controls the cell's shape, in other words, only the surface tension of the cell and its adhesion to the surface."
   ]
  },
  {
   "cell_type": "code",
   "execution_count": 2,
   "metadata": {},
   "outputs": [],
   "source": [
    "def cap_height(R, angle) :\n",
    "    \"\"\"\n",
    "    Calculate the height of a cap with radius R, and given contact angle\n",
    "    \"\"\"\n",
    "    return R*(1-np.cos(angle))\n",
    "\n",
    "def aspect_ratio(angle) :\n",
    "    \"\"\"\n",
    "    Calculate the aspect ratio of a cell given its contact angle.\n",
    "    \"\"\"\n",
    "    if angle >= pi/2 :\n",
    "        factor = np.sin(angle)\n",
    "    else : factor = 1.\n",
    "    return 2*factor/(1+np.cos(angle))\n",
    "\n",
    "def area_cap(r, angle) :\n",
    "    \"\"\"\n",
    "    Calculate the area of the cell's cap.\n",
    "    \"\"\"\n",
    "    return 0.5* (2*pi - 2*angle + np.sin(2*angle)) *r**2 \n",
    "        \n",
    "def calc_radius(A, angle) :\n",
    "    \"\"\"\n",
    "    Calculate the radius associated with an area A and the contact angle.\n",
    "    \"\"\"\n",
    "    return np.sqrt(2*A/(2*pi-2*angle+np.sin(2*angle)))\n"
   ]
  },
  {
   "cell_type": "code",
   "execution_count": 3,
   "metadata": {},
   "outputs": [],
   "source": [
    "def plot_blast(X, angle, ax, cste_area=False, xlim=1.1, axis=False) :\n",
    "    \"\"\"\n",
    "    Plot a cell/blastomere given an input parameter X, contact angle and ax for the figure.\n",
    "    \n",
    "    X is either the imposed area (ctse_area=True) or the radius\n",
    "    \"\"\"\n",
    "    if angle <= 0.5*pi :\n",
    "        psi = pi/2. - angle\n",
    "        theta1 = -psi*180/pi\n",
    "        theta2 = (pi+psi)*180/pi\n",
    "    else :\n",
    "        psi = angle - pi/2\n",
    "        theta1 = psi*180/pi\n",
    "        theta2 = (pi-psi)*180/pi\n",
    "    \n",
    "    if cste_area == True :\n",
    "        R = calc_radius(X, angle)\n",
    "    else :\n",
    "        R = X\n",
    "        \n",
    "    h = cap_height(R, angle)\n",
    "    Y = R - h\n",
    "    H = R*(1.+np.cos(angle))\n",
    "\n",
    "    area = area_cap(R, angle)\n",
    "\n",
    "    \n",
    "    draw_arc = Arc((0, Y), width=2*R, height=2*R, angle=0.0, theta1=theta1, theta2=theta2, linestyle='-', color='g', linewidth=2)\n",
    "    ax.add_artist(draw_arc)\n",
    "    ax.hlines(xmin=-xlim, xmax=xlim, y=0, color='k')\n",
    "    ax.axis('equal')\n",
    "    ax.set_xlim(-xlim, xlim)\n",
    "    ax.set_ylim(0, 2.*xlim)\n",
    "    \n",
    "    if not axis :\n",
    "        ax.axis('off')\n",
    "    else :\n",
    "        ax.grid()\n",
    "\n",
    "    title = ''\n",
    "    title += 'theta = '+ \"{:2.2f}\".format(angle) \n",
    "    title += '\\nA = '+ \"{:2.2f}\".format(area)\n",
    "    title += '\\nR = '+ \"{:2.2f}\".format(R)\n",
    "    title += '\\nH = '+ \"{:2.2f}\".format(H)\n",
    "    ax.set_title(title)\n",
    "    \n",
    "    "
   ]
  },
  {
   "cell_type": "markdown",
   "metadata": {},
   "source": [
    "## Constant curvature radius R=1\n",
    "Below we plot four cases of cells on a surface at constant radius $R$. Area is not conserved from one case to the other. Inputs are the contact angle (theta) and the radius (R), outputs are the area (A) and the height (H)."
   ]
  },
  {
   "cell_type": "code",
   "execution_count": 8,
   "metadata": {},
   "outputs": [
    {
     "data": {
      "image/png": "[encoded data removed]",
      "text/plain": [
       "<Figure size 864x216 with 4 Axes>"
      ]
     },
     "metadata": {
      "needs_background": "light"
     },
     "output_type": "display_data"
    }
   ],
   "source": [
    "X = 4\n",
    "theta = [0., pi/X, pi/2., pi-pi/X]\n",
    "X = np.ones(len(theta))\n",
    "\n",
    "fig, ax = plt.subplots(1, len(theta), figsize=(3*len(theta), 3))\n",
    "\n",
    "for i in range(len(theta)) :\n",
    "    plot_blast(X[i], theta[i], ax[i], cste_area=False, xlim=1.9, axis=False)\n",
    "    \n",
    "\n",
    "plt.show()\n",
    "\n"
   ]
  },
  {
   "cell_type": "markdown",
   "metadata": {},
   "source": [
    "## Constant area A=1\n",
    "Below we plot four cases of cells on a surface at constant area $A$. Radius is not conserved from one case to the other. Inputs are the contact angle (theta) and the area (A), outputs are the radius (R) and the height (H)."
   ]
  },
  {
   "cell_type": "markdown",
   "metadata": {},
   "source": [
    "### Plot"
   ]
  },
  {
   "cell_type": "code",
   "execution_count": 9,
   "metadata": {
    "scrolled": true
   },
   "outputs": [
    {
     "data": {
      "image/png": "[encoded data removed]",
      "text/plain": [
       "<Figure size 864x216 with 4 Axes>"
      ]
     },
     "metadata": {
      "needs_background": "light"
     },
     "output_type": "display_data"
    }
   ],
   "source": [
    "T = 4\n",
    "theta = [0., pi/T, pi/2., pi-pi/T]\n",
    "X = np.ones(len(theta))\n",
    "\n",
    "fig, ax = plt.subplots(1, len(theta), figsize=(3*len(theta), 3))\n",
    "\n",
    "for i in range(len(theta)) :\n",
    "    plot_blast(X[i], theta[i], ax[i], cste_area=True, xlim=1.9)\n",
    "    \n",
    "plt.axis('off')\n",
    "plt.show()\n"
   ]
  },
  {
   "cell_type": "markdown",
   "metadata": {},
   "source": [
    "### Aspect Ratio\n",
    "\n",
    "We define the compaction parameter, $\\alpha$ as\n",
    "$$\\alpha = \\cos \\theta$$\n",
    "where $\\theta $ is the contact angle of the cell and the substrate\n",
    "\n",
    "We also define the aspect ratio of the spreading droplet as\n",
    "$$r = \\frac{L}{H} = \\begin{cases}\\frac{2}{1+\\cos \\theta}&, 0 \\leq \\theta \\leq \\frac{\\pi}{2} \\\\ \\frac{2\\sin\\theta}{1+\\cos \\theta}&, \\frac{\\pi}{2} \\leq \\theta \\leq \\pi\\end{cases}$$\n",
    "\n",
    "Four cases are illustrated below (black dots), and indicated with a black dot. The red line corresponds to the calculation of the aspect ratio versus compaction parameter $\\alpha$"
   ]
  },
  {
   "cell_type": "code",
   "execution_count": 6,
   "metadata": {},
   "outputs": [
    {
     "data": {
      "image/png": "[encoded data removed]",
      "text/plain": [
       "<Figure size 288x288 with 1 Axes>"
      ]
     },
     "metadata": {
      "needs_background": "light"
     },
     "output_type": "display_data"
    },
    {
     "data": {
      "image/png": "[encoded data removed]",
      "text/plain": [
       "<Figure size 864x216 with 4 Axes>"
      ]
     },
     "metadata": {
      "needs_background": "light"
     },
     "output_type": "display_data"
    }
   ],
   "source": [
    "T = 3\n",
    "theta = [0., pi/T, pi/2., pi-pi/T]\n",
    "X = np.ones(len(theta))\n",
    "\n",
    "theta_list = np.linspace(0., 3*pi/4, 50)\n",
    "\n",
    "r = np.array([aspect_ratio(theta_list[i]) for i in range(len(theta_list))])\n",
    "\n",
    "alpha = 1-np.cos(theta_list)\n",
    "\n",
    "plt.figure(figsize=(4, 4))\n",
    "\n",
    "plt.plot(alpha, r, color='r')\n",
    "\n",
    "for i in range(len(theta)) :\n",
    "    plt.scatter(1-np.cos(theta[i]), aspect_ratio(theta[i]), color='k')\n",
    "\n",
    "plt.ylabel('Aspect ratio '+r'$r=L/H$')\n",
    "plt.xlabel('Compaction parameter ' + r'$\\alpha = 1-\\cos(\\theta)$')\n",
    "plt.ylim(0., 5.)\n",
    "\n",
    "#plt.savefig('aspectratio_VS_compaction.eps', format='eps')\n",
    "\n",
    "plt.show()\n",
    "\n",
    "\n",
    "\n",
    "\n",
    "fig, ax = plt.subplots(1, len(theta), figsize=(3*len(theta), 3))\n",
    "\n",
    "for i in range(len(theta)) :\n",
    "    plot_blast(X[i], theta[i], ax[i], cste_area=True, xlim=1.9)\n",
    "    \n",
    "#plt.savefig('compaction_examples_60degrees.eps', format='eps')\n",
    "plt.show()"
   ]
  },
  {
   "cell_type": "code",
   "execution_count": null,
   "metadata": {},
   "outputs": [],
   "source": []
  }
 ],
 "metadata": {
  "kernelspec": {
   "display_name": "Python 3",
   "language": "python",
   "name": "python3"
  },
  "language_info": {
   "codemirror_mode": {
    "name": "ipython",
    "version": 3
   },
   "file_extension": ".py",
   "mimetype": "text/x-python",
   "name": "python",
   "nbconvert_exporter": "python",
   "pygments_lexer": "ipython3",
   "version": "3.9.4"
  }
 },
 "nbformat": 4,
 "nbformat_minor": 4
}
